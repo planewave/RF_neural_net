{
 "cells": [
  {
   "cell_type": "code",
   "execution_count": 1,
   "metadata": {},
   "outputs": [
    {
     "data": {
      "text/plain": [
       "'1.0.1.post2'"
      ]
     },
     "execution_count": 1,
     "metadata": {},
     "output_type": "execute_result"
    }
   ],
   "source": [
    "import numpy as np\n",
    "import matplotlib.pyplot as plt\n",
    "from lib import sig_gen\n",
    "import torch\n",
    "import torch.nn as nn\n",
    "# import torch.optim\n",
    "torch.__version__"
   ]
  },
  {
   "cell_type": "code",
   "execution_count": 16,
   "metadata": {},
   "outputs": [
    {
     "data": {
      "text/plain": [
       "tensor([3.1963, 3.1626, 3.0999, 3.0261, 2.9711, 2.9694, 3.0484, 3.2176, 3.4615,\n",
       "        3.7407, 4.0004, 4.1844, 4.2509, 4.1844, 4.0004, 3.7407, 3.4615, 3.2176,\n",
       "        3.0484, 2.9694, 2.9711, 3.0261, 3.0999, 3.1626], device='cuda:0')"
      ]
     },
     "execution_count": 16,
     "metadata": {},
     "output_type": "execute_result"
    }
   ],
   "source": [
    "device = torch.device(\"cuda\" if torch.cuda.is_available() else \"cpu\")\n",
    "beta, span, sps = 0.4, 4, 6\n",
    "rrc = sig_gen.rrcosdesign(beta, span, sps)\n",
    "rrc = torch.from_numpy(rrc).float().to(device)\n",
    "\n",
    "rrc"
   ]
  },
  {
   "cell_type": "code",
   "execution_count": 31,
   "metadata": {},
   "outputs": [
    {
     "data": {
      "text/plain": [
       "tensor([ 0.7071, -0.7071,  0.7071, -0.7071,  0.7071, -0.7071, -0.7071, -0.7071,\n",
       "         0.7071,  0.7071, -0.7071, -0.7071,  0.7071,  0.7071,  0.7071, -0.7071,\n",
       "         0.7071, -0.7071, -0.7071, -0.7071,  0.7071, -0.7071,  0.7071, -0.7071,\n",
       "        -0.7071,  0.7071, -0.7071, -0.7071, -0.7071, -0.7071, -0.7071,  0.7071,\n",
       "         0.7071,  0.7071, -0.7071, -0.7071,  0.7071, -0.7071, -0.7071, -0.7071,\n",
       "         0.7071,  0.7071,  0.7071, -0.7071,  0.7071,  0.7071, -0.7071,  0.7071,\n",
       "         0.7071,  0.7071, -0.7071,  0.7071, -0.7071, -0.7071, -0.7071,  0.7071,\n",
       "         0.7071, -0.7071, -0.7071,  0.7071, -0.7071, -0.7071, -0.7071, -0.7071],\n",
       "       device='cuda:0')"
      ]
     },
     "execution_count": 31,
     "metadata": {},
     "output_type": "execute_result"
    }
   ],
   "source": [
    "symb=64\n",
    "M=4\n",
    "msg = torch.empty(symb, dtype=torch.float, device=device).random_(0, M)\n",
    "# sig_mod = (np.pi/M+msg*(2*np.pi/M))*1j\n",
    "sig_mod_r = (np.pi/M+msg*(2*np.pi/M)).cos()\n",
    "sig_mod_i = (np.pi/M+msg*(2*np.pi/M)).sin()\n",
    "\n",
    "sig_mod_r"
   ]
  },
  {
   "cell_type": "code",
   "execution_count": null,
   "metadata": {},
   "outputs": [],
   "source": [
    "def psk_gen(symb=64, M=4, beta=0.4, span=4, sps=16, rrc, device):\n",
    "    \"\"\"\n",
    "    generate baseband PSK signal\n",
    "    \"\"\"\n",
    "#     rrc = rrcosdesign(beta, span, sps)\n",
    "    msg = torch.empty(symb, dtype=torch.float, device=device).random_(0, M) \n",
    "    sig_mod = torch.exp(1j*(np.pi/M+msg*(2*np.pi/M)))\n",
    "    sig_up = upsample(sig_mod, sps)\n",
    "    sig_pulse = np.convolve(sig_up, rrc)\n",
    "    return sig_pulse[int(sps*span/2):int(1-sps*span/2)]"
   ]
  }
 ],
 "metadata": {
  "kernelspec": {
   "display_name": "Python 3",
   "language": "python",
   "name": "python3"
  },
  "language_info": {
   "codemirror_mode": {
    "name": "ipython",
    "version": 3
   },
   "file_extension": ".py",
   "mimetype": "text/x-python",
   "name": "python",
   "nbconvert_exporter": "python",
   "pygments_lexer": "ipython3",
   "version": "3.6.8"
  }
 },
 "nbformat": 4,
 "nbformat_minor": 2
}
