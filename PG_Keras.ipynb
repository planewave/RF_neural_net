{
 "cells": [
  {
   "cell_type": "code",
   "execution_count": 1,
   "metadata": {},
   "outputs": [
    {
     "name": "stdout",
     "output_type": "stream",
     "text": [
      "1.12.0\n",
      "2.1.6-tf\n"
     ]
    }
   ],
   "source": [
    "import numpy as np\n",
    "import matplotlib.pyplot as plt\n",
    "from lib import sig_gen\n",
    "import tensorflow as tf\n",
    "from tensorflow.keras import layers\n",
    "from numba import jit\n",
    "\n",
    "print(tf.VERSION)\n",
    "print(tf.keras.__version__)"
   ]
  },
  {
   "cell_type": "code",
   "execution_count": 6,
   "metadata": {},
   "outputs": [
    {
     "data": {
      "text/plain": [
       "(1024, 2)"
      ]
     },
     "execution_count": 6,
     "metadata": {},
     "output_type": "execute_result"
    }
   ],
   "source": [
    "@jit(nopython=True)\n",
    "def sig_batch_gen(batch, symb, sps):\n",
    "    \"\"\"\n",
    "    generate a signal batch\n",
    "    no distortion yet\n",
    "    \"\"\"\n",
    "    mibt = np.random.random((batch, 2))+0.3\n",
    "    sig = np.empty((batch, symb*sps, 2))\n",
    "    for idx in range(batch):\n",
    "        msg = np.random.randint(0, 2, symb)\n",
    "        sig_cpx = sig_gen.gfsk_mod(msg, sps, mibt[idx, 0], mibt[idx, 1])\n",
    "        sig[idx, :, 0] = sig_cpx.real\n",
    "        sig[idx, :, 1] = sig_cpx.imag\n",
    "    return sig, mibt\n",
    "\n",
    "# sig, mibt = sig_batch_gen(batch, symb, sps)\n",
    "# print(sig.shape, mibt.shape)\n",
    "def train_generator(batch, symb, sps):\n",
    "    while True:\n",
    "        yield sig_batch_gen(batch, symb, sps)\n",
    "\n",
    "        \n",
    "batch = 1024\n",
    "symb, sps = 64, 4\n",
    "gen = train_generator(batch, symb, sps)\n",
    "next(gen)[1].shape"
   ]
  },
  {
   "cell_type": "code",
   "execution_count": 18,
   "metadata": {},
   "outputs": [
    {
     "name": "stdout",
     "output_type": "stream",
     "text": [
      "385 ms ± 1.62 ms per loop (mean ± std. dev. of 7 runs, 1 loop each)\n"
     ]
    }
   ],
   "source": [
    "\n",
    "%timeit sig_batch_gen(batch, symb, sps)"
   ]
  },
  {
   "cell_type": "code",
   "execution_count": 7,
   "metadata": {},
   "outputs": [
    {
     "name": "stdout",
     "output_type": "stream",
     "text": [
      "119 ms ± 303 µs per loop (mean ± std. dev. of 7 runs, 10 loops each)\n"
     ]
    }
   ],
   "source": [
    "%timeit sig_batch_gen(batch, symb, sps)"
   ]
  },
  {
   "cell_type": "code",
   "execution_count": 6,
   "metadata": {},
   "outputs": [
    {
     "name": "stdout",
     "output_type": "stream",
     "text": [
      "_________________________________________________________________\n",
      "Layer (type)                 Output Shape              Param #   \n",
      "=================================================================\n",
      "conv1d (Conv1D)              (None, 248, 32)           608       \n",
      "_________________________________________________________________\n",
      "max_pooling1d (MaxPooling1D) (None, 124, 32)           0         \n",
      "_________________________________________________________________\n",
      "conv1d_1 (Conv1D)            (None, 118, 16)           3600      \n",
      "_________________________________________________________________\n",
      "max_pooling1d_1 (MaxPooling1 (None, 59, 16)            0         \n",
      "_________________________________________________________________\n",
      "conv1d_2 (Conv1D)            (None, 57, 8)             392       \n",
      "_________________________________________________________________\n",
      "flatten (Flatten)            (None, 456)               0         \n",
      "_________________________________________________________________\n",
      "dense (Dense)                (None, 2)                 914       \n",
      "=================================================================\n",
      "Total params: 5,514\n",
      "Trainable params: 5,514\n",
      "Non-trainable params: 0\n",
      "_________________________________________________________________\n"
     ]
    }
   ],
   "source": [
    "def build_model(input_shape):\n",
    "    # build model\n",
    "    model = tf.keras.Sequential()\n",
    "    model.add(layers.Conv1D(32, 9, activation='relu',\n",
    "                            input_shape=input_shape))\n",
    "    model.add(layers.MaxPooling1D(2))\n",
    "    model.add(layers.Conv1D(16, 7, activation='relu'))\n",
    "    model.add(layers.MaxPooling1D(2))\n",
    "    model.add(layers.Conv1D(8, 3, activation='relu'))\n",
    "    model.add(layers.Flatten())\n",
    "    model.add(layers.Dense(2))\n",
    "\n",
    "    model.compile(optimizer=tf.train.AdamOptimizer(0.001),\n",
    "                  loss='mse',\n",
    "                  metrics=['mae'])\n",
    "    model.summary()\n",
    "\n",
    "    return model\n",
    "\n",
    "model = build_model((symb*sps, 2))"
   ]
  },
  {
   "cell_type": "code",
   "execution_count": null,
   "metadata": {},
   "outputs": [],
   "source": []
  },
  {
   "cell_type": "code",
   "execution_count": 7,
   "metadata": {},
   "outputs": [
    {
     "data": {
      "text/plain": [
       "(5, 2)"
      ]
     },
     "execution_count": 7,
     "metadata": {},
     "output_type": "execute_result"
    }
   ],
   "source": [
    "# sanity check\n",
    "x_test = np.random.rand(5, 256, 2)\n",
    "model.predict(x_test).shape"
   ]
  },
  {
   "cell_type": "code",
   "execution_count": 8,
   "metadata": {},
   "outputs": [
    {
     "name": "stdout",
     "output_type": "stream",
     "text": [
      "Epoch 1/10\n",
      "100/100 [==============================] - 29s 294ms/step - loss: 0.0755 - mean_absolute_error: 0.2040\n",
      "Epoch 2/10\n",
      "100/100 [==============================] - 29s 289ms/step - loss: 0.0436 - mean_absolute_error: 0.1430\n",
      "Epoch 3/10\n",
      "100/100 [==============================] - 29s 289ms/step - loss: 0.0421 - mean_absolute_error: 0.1368\n",
      "Epoch 4/10\n",
      "100/100 [==============================] - 29s 289ms/step - loss: 0.0414 - mean_absolute_error: 0.1344\n",
      "Epoch 5/10\n",
      "100/100 [==============================] - 29s 290ms/step - loss: 0.0403 - mean_absolute_error: 0.1344\n",
      "Epoch 6/10\n",
      "100/100 [==============================] - 29s 289ms/step - loss: 0.0371 - mean_absolute_error: 0.1280\n",
      "Epoch 7/10\n",
      "100/100 [==============================] - 29s 290ms/step - loss: 0.0323 - mean_absolute_error: 0.1175\n",
      "Epoch 8/10\n",
      "100/100 [==============================] - 29s 289ms/step - loss: 0.0247 - mean_absolute_error: 0.1000\n",
      "Epoch 9/10\n",
      "100/100 [==============================] - 29s 289ms/step - loss: 0.0212 - mean_absolute_error: 0.0901\n",
      "Epoch 10/10\n",
      "100/100 [==============================] - 29s 289ms/step - loss: 0.0184 - mean_absolute_error: 0.0825\n",
      "WARNING:tensorflow:TensorFlow optimizers do not make it possible to access optimizer attributes or optimizer state after instantiation. As a result, we cannot save the optimizer as part of the model save file.You will have to compile your model again after loading it. Prefer using a Keras optimizer instead (see keras.io/optimizers).\n"
     ]
    }
   ],
   "source": [
    "history = model.fit_generator(\n",
    "    gen,\n",
    "    steps_per_epoch=100,\n",
    "    epochs=10\n",
    "    )\n",
    "model.save('mibt_est.h5')"
   ]
  },
  {
   "cell_type": "code",
   "execution_count": 9,
   "metadata": {},
   "outputs": [
    {
     "data": {
      "image/png": "[encoded data removed]",
      "text/plain": [
       "<Figure size 432x288 with 1 Axes>"
      ]
     },
     "metadata": {},
     "output_type": "display_data"
    }
   ],
   "source": [
    "loss = history.history['loss']\n",
    "epochs = range(1, len(loss) + 1)\n",
    "plt.plot(epochs, loss, 'b', label='Training loss')\n",
    "plt.legend()\n",
    "plt.show()"
   ]
  },
  {
   "cell_type": "code",
   "execution_count": 10,
   "metadata": {},
   "outputs": [
    {
     "name": "stdout",
     "output_type": "stream",
     "text": [
      "[[1.0766914  0.74407804]] [[1.19616879 0.77734118]]\n"
     ]
    }
   ],
   "source": [
    "batch = 1\n",
    "symb, sps = 64, 4\n",
    "x_test, target = sig_batch_gen(batch, symb, sps)\n",
    "print(model.predict(x_test), target)\n"
   ]
  }
 ],
 "metadata": {
  "kernelspec": {
   "display_name": "Python 3",
   "language": "python",
   "name": "python3"
  },
  "language_info": {
   "codemirror_mode": {
    "name": "ipython",
    "version": 3
   },
   "file_extension": ".py",
   "mimetype": "text/x-python",
   "name": "python",
   "nbconvert_exporter": "python",
   "pygments_lexer": "ipython3",
   "version": "3.6.8"
  }
 },
 "nbformat": 4,
 "nbformat_minor": 2
}
