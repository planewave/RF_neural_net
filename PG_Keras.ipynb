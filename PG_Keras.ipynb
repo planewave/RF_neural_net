{
 "cells": [
  {
   "cell_type": "code",
   "execution_count": 1,
   "metadata": {},
   "outputs": [
    {
     "name": "stdout",
     "output_type": "stream",
     "text": [
      "1.12.0\n",
      "2.1.6-tf\n"
     ]
    }
   ],
   "source": [
    "import numpy as np\n",
    "import matplotlib.pyplot as plt\n",
    "from lib import sig_gen\n",
    "import tensorflow as tf\n",
    "from tensorflow.keras import layers\n",
    "from numba import jit\n",
    "\n",
    "print(tf.VERSION)\n",
    "print(tf.keras.__version__)"
   ]
  },
  {
   "cell_type": "code",
   "execution_count": 6,
   "metadata": {},
   "outputs": [
    {
     "data": {
      "text/plain": [
       "(1024, 2)"
      ]
     },
     "execution_count": 6,
     "metadata": {},
     "output_type": "execute_result"
    }
   ],
   "source": [
    "@jit(nopython=True)\n",
    "def sig_batch_gen(batch, symb, sps):\n",
    "    \"\"\"\n",
    "    generate a signal batch\n",
    "    no distortion yet\n",
    "    \"\"\"\n",
    "    mibt = np.random.random((batch, 2))+0.3\n",
    "    sig = np.empty((batch, symb*sps, 2))\n",
    "    for idx in range(batch):\n",
    "        msg = np.random.randint(0, 2, symb)\n",
    "        sig_cpx = sig_gen.gfsk_mod(msg, sps, mibt[idx, 0], mibt[idx, 1])\n",
    "        sig[idx, :, 0] = sig_cpx.real\n",
    "        sig[idx, :, 1] = sig_cpx.imag\n",
    "    return sig, mibt\n",
    "\n",
    "# sig, mibt = sig_batch_gen(batch, symb, sps)\n",
    "# print(sig.shape, mibt.shape)\n",
    "def train_generator(batch, symb, sps):\n",
    "    while True:\n",
    "        yield sig_batch_gen(batch, symb, sps)\n",
    "\n",
    "        \n",
    "batch = 1024\n",
    "symb, sps = 64, 4\n",
    "gen = train_generator(batch, symb, sps)\n",
    "next(gen)[1].shape"
   ]
  },
  {
   "cell_type": "code",
   "execution_count": 7,
   "metadata": {},
   "outputs": [
    {
     "name": "stdout",
     "output_type": "stream",
     "text": [
      "14.4 ms ± 4.12 µs per loop (mean ± std. dev. of 7 runs, 100 loops each)\n"
     ]
    }
   ],
   "source": [
    "\n",
    "%timeit sig_batch_gen(batch, symb, sps)"
   ]
  },
  {
   "cell_type": "code",
   "execution_count": 8,
   "metadata": {},
   "outputs": [],
   "source": [
    "def build_model(input_shape):\n",
    "    # build model\n",
    "    model = tf.keras.Sequential()\n",
    "    model.add(layers.Conv1D(32, 9, activation='relu',\n",
    "                            input_shape=input_shape))\n",
    "    model.add(layers.MaxPooling1D(2))\n",
    "    model.add(layers.Conv1D(16, 7, activation='relu'))\n",
    "    model.add(layers.MaxPooling1D(2))\n",
    "    model.add(layers.Conv1D(8, 3, activation='relu'))\n",
    "    model.add(layers.Flatten())\n",
    "    model.add(layers.Dense(2))\n",
    "\n",
    "    model.compile(optimizer=tf.train.AdamOptimizer(0.001),\n",
    "                  loss='mse',\n",
    "                  metrics=['mae'])\n",
    "#     model.summary()\n",
    "\n",
    "    return model\n",
    "\n",
    "model = build_model((symb*sps, 2))"
   ]
  },
  {
   "cell_type": "code",
   "execution_count": 9,
   "metadata": {},
   "outputs": [
    {
     "data": {
      "text/plain": [
       "(5, 2)"
      ]
     },
     "execution_count": 9,
     "metadata": {},
     "output_type": "execute_result"
    }
   ],
   "source": [
    "# sanity check\n",
    "x_test = np.random.rand(5, 256, 2)\n",
    "model.predict(x_test).shape"
   ]
  },
  {
   "cell_type": "code",
   "execution_count": 10,
   "metadata": {},
   "outputs": [
    {
     "name": "stdout",
     "output_type": "stream",
     "text": [
      "Epoch 1/10\n",
      "100/100 [==============================] - 3s 33ms/step - loss: 0.0807 - mean_absolute_error: 0.2116\n",
      "Epoch 2/10\n",
      "100/100 [==============================] - 3s 29ms/step - loss: 0.0332 - mean_absolute_error: 0.1299\n",
      "Epoch 3/10\n",
      "100/100 [==============================] - 3s 29ms/step - loss: 0.0223 - mean_absolute_error: 0.1034\n",
      "Epoch 4/10\n",
      "100/100 [==============================] - 3s 29ms/step - loss: 0.0195 - mean_absolute_error: 0.0943\n",
      "Epoch 5/10\n",
      "100/100 [==============================] - 3s 29ms/step - loss: 0.0188 - mean_absolute_error: 0.0912\n",
      "Epoch 6/10\n",
      "100/100 [==============================] - 3s 29ms/step - loss: 0.0179 - mean_absolute_error: 0.0882\n",
      "Epoch 7/10\n",
      "100/100 [==============================] - 3s 29ms/step - loss: 0.0179 - mean_absolute_error: 0.0874\n",
      "Epoch 8/10\n",
      "100/100 [==============================] - 3s 29ms/step - loss: 0.0172 - mean_absolute_error: 0.0850\n",
      "Epoch 9/10\n",
      "100/100 [==============================] - 3s 30ms/step - loss: 0.0170 - mean_absolute_error: 0.0839\n",
      "Epoch 10/10\n",
      "100/100 [==============================] - 3s 29ms/step - loss: 0.0169 - mean_absolute_error: 0.0835\n",
      "WARNING:tensorflow:TensorFlow optimizers do not make it possible to access optimizer attributes or optimizer state after instantiation. As a result, we cannot save the optimizer as part of the model save file.You will have to compile your model again after loading it. Prefer using a Keras optimizer instead (see keras.io/optimizers).\n"
     ]
    }
   ],
   "source": [
    "history = model.fit_generator(\n",
    "    gen,\n",
    "    steps_per_epoch=100,\n",
    "    epochs=10\n",
    "    )\n",
    "model.save('mibt_est.h5')"
   ]
  },
  {
   "cell_type": "code",
   "execution_count": 11,
   "metadata": {},
   "outputs": [
    {
     "data": {
      "image/png": "[encoded data removed]",
      "text/plain": [
       "<Figure size 432x288 with 1 Axes>"
      ]
     },
     "metadata": {
      "needs_background": "light"
     },
     "output_type": "display_data"
    }
   ],
   "source": [
    "loss = history.history['loss']\n",
    "epochs = range(1, len(loss) + 1)\n",
    "plt.plot(epochs, loss, 'b', label='Training loss')\n",
    "plt.legend()\n",
    "plt.show()"
   ]
  },
  {
   "cell_type": "code",
   "execution_count": 12,
   "metadata": {},
   "outputs": [
    {
     "name": "stdout",
     "output_type": "stream",
     "text": [
      "[[0.6400458 1.1150059]] [[0.5834769  1.08938443]]\n"
     ]
    }
   ],
   "source": [
    "batch = 1\n",
    "symb, sps = 64, 4\n",
    "x_test, target = sig_batch_gen(batch, symb, sps)\n",
    "print(model.predict(x_test), target)\n"
   ]
  },
  {
   "cell_type": "code",
   "execution_count": null,
   "metadata": {},
   "outputs": [],
   "source": []
  }
 ],
 "metadata": {
  "kernelspec": {
   "display_name": "Python 3",
   "language": "python",
   "name": "python3"
  },
  "language_info": {
   "codemirror_mode": {
    "name": "ipython",
    "version": 3
   },
   "file_extension": ".py",
   "mimetype": "text/x-python",
   "name": "python",
   "nbconvert_exporter": "python",
   "pygments_lexer": "ipython3",
   "version": "3.6.8"
  }
 },
 "nbformat": 4,
 "nbformat_minor": 2
}
