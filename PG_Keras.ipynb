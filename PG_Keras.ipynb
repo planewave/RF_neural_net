{
 "cells": [
  {
   "cell_type": "code",
   "execution_count": 1,
   "metadata": {},
   "outputs": [
    {
     "name": "stdout",
     "output_type": "stream",
     "text": [
      "1.12.0\n",
      "2.1.6-tf\n"
     ]
    }
   ],
   "source": [
    "import numpy as np\n",
    "import matplotlib.pyplot as plt\n",
    "from lib import sig_gen\n",
    "import tensorflow as tf\n",
    "from tensorflow.keras import layers\n",
    "from numba import jit, njit, prange\n",
    "\n",
    "print(tf.VERSION)\n",
    "print(tf.keras.__version__)"
   ]
  },
  {
   "cell_type": "code",
   "execution_count": 3,
   "metadata": {},
   "outputs": [
    {
     "data": {
      "text/plain": [
       "(1024, 256, 2)"
      ]
     },
     "execution_count": 3,
     "metadata": {},
     "output_type": "execute_result"
    }
   ],
   "source": [
    "@njit(parallel=True)\n",
    "def sig_batch_gen(batch, symb, sps):\n",
    "    \"\"\"\n",
    "    generate a signal batch\n",
    "    no distortion yet\n",
    "    \"\"\"\n",
    "    mibt = np.random.random((batch, 2))*0.8+0.3\n",
    "    sig = np.empty((batch, symb*sps, 2))\n",
    "    for idx in prange(batch):\n",
    "        msg = np.random.randint(0, 2, symb)\n",
    "        # generate oversampled signal\n",
    "        sig_cpx = sig_gen.gfsk_mod(msg, sps*10, mibt[idx, 0], mibt[idx, 1])\n",
    "        # apply timing offset\n",
    "        sig_cpx = sig_cpx[np.random.randint(0, 10)::10]\n",
    "        # parallel stuck if apply phase offset, move it to sig_gen\n",
    "        # sig_cpx = sig_cpx*np.exp(1j*2*np.pi*np.random.random())\n",
    "        sig[idx, :, 0] = sig_cpx.real\n",
    "        sig[idx, :, 1] = sig_cpx.imag\n",
    "    return sig, mibt\n",
    "\n",
    "# sig, mibt = sig_batch_gen(batch, symb, sps)\n",
    "# print(sig.shape, mibt.shape)\n",
    "def train_generator(batch, symb, sps):\n",
    "    while True:\n",
    "        yield sig_batch_gen(batch, symb, sps)\n",
    "\n",
    "        \n",
    "batch = 1024\n",
    "symb, sps = 64, 4\n",
    "gen = train_generator(batch, symb, sps)\n",
    "next(gen)[0].shape\n",
    "# sig_batch_gen(batch, symb, sps)"
   ]
  },
  {
   "cell_type": "code",
   "execution_count": 6,
   "metadata": {},
   "outputs": [
    {
     "name": "stdout",
     "output_type": "stream",
     "text": [
      "6.44 ms ± 26.6 µs per loop (mean ± std. dev. of 7 runs, 100 loops each)\n"
     ]
    }
   ],
   "source": [
    "\n",
    "%timeit sig_batch_gen(batch, symb, sps)"
   ]
  },
  {
   "cell_type": "code",
   "execution_count": 93,
   "metadata": {},
   "outputs": [
    {
     "name": "stdout",
     "output_type": "stream",
     "text": [
      "_________________________________________________________________\n",
      "Layer (type)                 Output Shape              Param #   \n",
      "=================================================================\n",
      "conv1d_79 (Conv1D)           (None, 250, 16)           240       \n",
      "_________________________________________________________________\n",
      "conv1d_80 (Conv1D)           (None, 122, 32)           3616      \n",
      "_________________________________________________________________\n",
      "conv1d_81 (Conv1D)           (None, 58, 32)            7200      \n",
      "_________________________________________________________________\n",
      "conv1d_82 (Conv1D)           (None, 52, 32)            7200      \n",
      "_________________________________________________________________\n",
      "flatten_21 (Flatten)         (None, 1664)              0         \n",
      "_________________________________________________________________\n",
      "dense_21 (Dense)             (None, 2)                 3330      \n",
      "=================================================================\n",
      "Total params: 21,586\n",
      "Trainable params: 21,586\n",
      "Non-trainable params: 0\n",
      "_________________________________________________________________\n"
     ]
    }
   ],
   "source": [
    "def build_model(input_shape):\n",
    "    # build model\n",
    "    model = tf.keras.Sequential()\n",
    "    model.add(layers.Conv1D(16, 7, activation='relu',\n",
    "                            input_shape=input_shape))\n",
    "    model.add(layers.Conv1D(32, 7, activation='relu', strides=2))\n",
    "    model.add(layers.Conv1D(32, 7, activation='relu', strides=2))\n",
    "    model.add(layers.Conv1D(32, 7, activation='relu'))\n",
    "#     model.add(layers.MaxPooling1D(2))\n",
    "    model.add(layers.Flatten())\n",
    "    model.add(layers.Dense(2))\n",
    "\n",
    "    model.compile(optimizer='Adam',loss='mae')\n",
    "    model.summary()\n",
    "\n",
    "    return model\n",
    "\n",
    "model = build_model((symb*sps, 2))"
   ]
  },
  {
   "cell_type": "code",
   "execution_count": 94,
   "metadata": {},
   "outputs": [],
   "source": [
    "# sanity check\n",
    "# x_test = np.random.rand(5, 256, 2)\n",
    "# model.predict(x_test).shape"
   ]
  },
  {
   "cell_type": "code",
   "execution_count": 95,
   "metadata": {},
   "outputs": [
    {
     "name": "stdout",
     "output_type": "stream",
     "text": [
      "Epoch 1/10\n",
      "200/200 [==============================] - 4s 22ms/step - loss: 0.1267\n",
      "Epoch 2/10\n",
      "200/200 [==============================] - 3s 14ms/step - loss: 0.0921\n",
      "Epoch 3/10\n",
      "200/200 [==============================] - 3s 14ms/step - loss: 0.0829\n",
      "Epoch 4/10\n",
      "200/200 [==============================] - 3s 14ms/step - loss: 0.0669\n",
      "Epoch 5/10\n",
      "200/200 [==============================] - 3s 14ms/step - loss: 0.0587\n",
      "Epoch 6/10\n",
      "200/200 [==============================] - 3s 14ms/step - loss: 0.0555\n",
      "Epoch 7/10\n",
      "200/200 [==============================] - 3s 14ms/step - loss: 0.0531\n",
      "Epoch 8/10\n",
      "200/200 [==============================] - 3s 14ms/step - loss: 0.0545\n",
      "Epoch 9/10\n",
      "200/200 [==============================] - 3s 14ms/step - loss: 0.0500\n",
      "Epoch 10/10\n",
      "200/200 [==============================] - 3s 14ms/step - loss: 0.0480\n"
     ]
    }
   ],
   "source": [
    "history = model.fit_generator(\n",
    "    gen,\n",
    "    steps_per_epoch=200,\n",
    "    epochs=10\n",
    "    )\n",
    "model.save('mibt_est.h5')"
   ]
  },
  {
   "cell_type": "code",
   "execution_count": 91,
   "metadata": {},
   "outputs": [
    {
     "data": {
      "image/png": "[encoded data removed]",
      "text/plain": [
       "<Figure size 432x288 with 1 Axes>"
      ]
     },
     "metadata": {
      "needs_background": "light"
     },
     "output_type": "display_data"
    }
   ],
   "source": [
    "loss = history.history['loss']\n",
    "epochs = range(1, len(loss) + 1)\n",
    "plt.plot(epochs, loss, label='Training loss')\n",
    "plt.legend()\n",
    "plt.show()"
   ]
  },
  {
   "cell_type": "code",
   "execution_count": 87,
   "metadata": {},
   "outputs": [
    {
     "name": "stdout",
     "output_type": "stream",
     "text": [
      "[[0.34392264 0.30266353]] [[0.31905945 0.32253489]]\n"
     ]
    }
   ],
   "source": [
    "batch = 1\n",
    "symb, sps = 64, 4\n",
    "x_test, target = sig_batch_gen(batch, symb, sps)\n",
    "print(model.predict(x_test), target)\n"
   ]
  },
  {
   "cell_type": "code",
   "execution_count": null,
   "metadata": {},
   "outputs": [],
   "source": []
  },
  {
   "cell_type": "code",
   "execution_count": null,
   "metadata": {},
   "outputs": [],
   "source": []
  }
 ],
 "metadata": {
  "kernelspec": {
   "display_name": "Python 3",
   "language": "python",
   "name": "python3"
  },
  "language_info": {
   "codemirror_mode": {
    "name": "ipython",
    "version": 3
   },
   "file_extension": ".py",
   "mimetype": "text/x-python",
   "name": "python",
   "nbconvert_exporter": "python",
   "pygments_lexer": "ipython3",
   "version": "3.6.8"
  }
 },
 "nbformat": 4,
 "nbformat_minor": 2
}
