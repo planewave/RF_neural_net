{
 "cells": [
  {
   "cell_type": "code",
   "execution_count": 9,
   "metadata": {},
   "outputs": [
    {
     "ename": "ImportError",
     "evalue": "cannot import name 'Lambda'",
     "output_type": "error",
     "traceback": [
      "\u001b[0;31m---------------------------------------------------------------------------\u001b[0m",
      "\u001b[0;31mImportError\u001b[0m                               Traceback (most recent call last)",
      "\u001b[0;32m<ipython-input-9-6acb4068f618>\u001b[0m in \u001b[0;36m<module>\u001b[0;34m\u001b[0m\n\u001b[1;32m      3\u001b[0m \u001b[0;32mfrom\u001b[0m \u001b[0mlib\u001b[0m \u001b[0;32mimport\u001b[0m \u001b[0msig_gen\u001b[0m\u001b[0;34m\u001b[0m\u001b[0;34m\u001b[0m\u001b[0m\n\u001b[1;32m      4\u001b[0m \u001b[0;32mimport\u001b[0m \u001b[0mtensorflow\u001b[0m \u001b[0;32mas\u001b[0m \u001b[0mtf\u001b[0m\u001b[0;34m\u001b[0m\u001b[0;34m\u001b[0m\u001b[0m\n\u001b[0;32m----> 5\u001b[0;31m \u001b[0;32mfrom\u001b[0m \u001b[0mtensorflow\u001b[0m\u001b[0;34m.\u001b[0m\u001b[0mkeras\u001b[0m \u001b[0;32mimport\u001b[0m \u001b[0mInput\u001b[0m\u001b[0;34m,\u001b[0m\u001b[0mlayers\u001b[0m\u001b[0;34m,\u001b[0m \u001b[0mLambda\u001b[0m\u001b[0;34m\u001b[0m\u001b[0;34m\u001b[0m\u001b[0m\n\u001b[0m\u001b[1;32m      6\u001b[0m \u001b[0;32mfrom\u001b[0m \u001b[0mnumba\u001b[0m \u001b[0;32mimport\u001b[0m \u001b[0mjit\u001b[0m\u001b[0;34m,\u001b[0m \u001b[0mnjit\u001b[0m\u001b[0;34m,\u001b[0m \u001b[0mprange\u001b[0m\u001b[0;34m\u001b[0m\u001b[0;34m\u001b[0m\u001b[0m\n\u001b[1;32m      7\u001b[0m \u001b[0;34m\u001b[0m\u001b[0m\n",
      "\u001b[0;31mImportError\u001b[0m: cannot import name 'Lambda'"
     ]
    }
   ],
   "source": [
    "import numpy as np\n",
    "import matplotlib.pyplot as plt\n",
    "from lib import sig_gen\n",
    "import tensorflow as tf\n",
    "from tensorflow.keras import Input,layers\n",
    "from numba import jit, njit, prange\n",
    "\n",
    "print(tf.VERSION)\n",
    "print(tf.keras.__version__)"
   ]
  },
  {
   "cell_type": "code",
   "execution_count": 2,
   "metadata": {},
   "outputs": [
    {
     "data": {
      "text/plain": [
       "(1024, 256, 2)"
      ]
     },
     "execution_count": 2,
     "metadata": {},
     "output_type": "execute_result"
    }
   ],
   "source": [
    "@njit(parallel=True)\n",
    "def sig_batch_gen(batch, symb, sps):\n",
    "    \"\"\"\n",
    "    generate a signal batch\n",
    "    no distortion yet\n",
    "    \"\"\"\n",
    "    mibt = np.random.random((batch, 2))*0.8+0.3\n",
    "    sig = np.empty((batch, symb*sps, 2))\n",
    "    for idx in prange(batch):\n",
    "        msg = np.random.randint(0, 2, symb)\n",
    "        # generate oversampled signal\n",
    "        sig_cpx = sig_gen.gfsk_mod(msg, sps*10, mibt[idx, 0], mibt[idx, 1])\n",
    "        # apply timing offset\n",
    "        sig_cpx = sig_cpx[np.random.randint(0, 10)::10]\n",
    "        # parallel stuck if apply phase offset, move it to sig_gen\n",
    "        # sig_cpx = sig_cpx*np.exp(1j*2*np.pi*np.random.random())\n",
    "        sig[idx, :, 0] = sig_cpx.real\n",
    "        sig[idx, :, 1] = sig_cpx.imag\n",
    "    return sig, mibt\n",
    "\n",
    "# sig, mibt = sig_batch_gen(batch, symb, sps)\n",
    "# print(sig.shape, mibt.shape)\n",
    "def train_generator(batch, symb, sps):\n",
    "    while True:\n",
    "        yield sig_batch_gen(batch, symb, sps)\n",
    "\n",
    "        \n",
    "batch = 1024\n",
    "symb, sps = 64, 4\n",
    "gen = train_generator(batch, symb, sps)\n",
    "next(gen)[0].shape\n",
    "# sig_batch_gen(batch, symb, sps)"
   ]
  },
  {
   "cell_type": "code",
   "execution_count": 6,
   "metadata": {},
   "outputs": [
    {
     "name": "stdout",
     "output_type": "stream",
     "text": [
      "6.44 ms ± 26.6 µs per loop (mean ± std. dev. of 7 runs, 100 loops each)\n"
     ]
    }
   ],
   "source": [
    "\n",
    "%timeit sig_batch_gen(batch, symb, sps)"
   ]
  },
  {
   "cell_type": "code",
   "execution_count": 95,
   "metadata": {},
   "outputs": [
    {
     "name": "stdout",
     "output_type": "stream",
     "text": [
      "__________________________________________________________________________________________________\n",
      "Layer (type)                    Output Shape         Param #     Connected to                     \n",
      "==================================================================================================\n",
      "input_40 (InputLayer)           (None, 256, 2)       0                                            \n",
      "__________________________________________________________________________________________________\n",
      "lambda_116 (Lambda)             (None, 64, 2)        0           input_40[0][0]                   \n",
      "__________________________________________________________________________________________________\n",
      "lambda_117 (Lambda)             (None, 64, 2)        0           input_40[0][0]                   \n",
      "__________________________________________________________________________________________________\n",
      "lambda_118 (Lambda)             (None, 64, 2)        0           input_40[0][0]                   \n",
      "__________________________________________________________________________________________________\n",
      "lambda_119 (Lambda)             (None, 64, 2)        0           input_40[0][0]                   \n",
      "__________________________________________________________________________________________________\n",
      "lambda_120 (Lambda)             (None, 64, 2)        0           input_40[0][0]                   \n",
      "__________________________________________________________________________________________________\n",
      "lambda_121 (Lambda)             (None, 64, 2)        0           input_40[0][0]                   \n",
      "__________________________________________________________________________________________________\n",
      "lambda_122 (Lambda)             (None, 64, 2)        0           input_40[0][0]                   \n",
      "__________________________________________________________________________________________________\n",
      "conv1d_80 (Conv1D)              (None, 29, 32)       480         lambda_116[0][0]                 \n",
      "                                                                 lambda_117[0][0]                 \n",
      "                                                                 lambda_118[0][0]                 \n",
      "                                                                 lambda_119[0][0]                 \n",
      "                                                                 lambda_120[0][0]                 \n",
      "                                                                 lambda_121[0][0]                 \n",
      "                                                                 lambda_122[0][0]                 \n",
      "__________________________________________________________________________________________________\n",
      "conv1d_81 (Conv1D)              (None, 12, 32)       7200        conv1d_80[0][0]                  \n",
      "                                                                 conv1d_80[1][0]                  \n",
      "                                                                 conv1d_80[2][0]                  \n",
      "                                                                 conv1d_80[3][0]                  \n",
      "                                                                 conv1d_80[4][0]                  \n",
      "                                                                 conv1d_80[5][0]                  \n",
      "                                                                 conv1d_80[6][0]                  \n",
      "__________________________________________________________________________________________________\n",
      "conv1d_82 (Conv1D)              (None, 6, 32)        7200        conv1d_81[0][0]                  \n",
      "                                                                 conv1d_81[1][0]                  \n",
      "                                                                 conv1d_81[2][0]                  \n",
      "                                                                 conv1d_81[3][0]                  \n",
      "                                                                 conv1d_81[4][0]                  \n",
      "                                                                 conv1d_81[5][0]                  \n",
      "                                                                 conv1d_81[6][0]                  \n",
      "__________________________________________________________________________________________________\n",
      "average_21 (Average)            (None, 6, 32)        0           conv1d_82[0][0]                  \n",
      "                                                                 conv1d_82[1][0]                  \n",
      "                                                                 conv1d_82[2][0]                  \n",
      "                                                                 conv1d_82[3][0]                  \n",
      "                                                                 conv1d_82[4][0]                  \n",
      "                                                                 conv1d_82[5][0]                  \n",
      "                                                                 conv1d_82[6][0]                  \n",
      "__________________________________________________________________________________________________\n",
      "flatten_20 (Flatten)            (None, 192)          0           average_21[0][0]                 \n",
      "__________________________________________________________________________________________________\n",
      "dense_31 (Dense)                (None, 32)           6176        flatten_20[0][0]                 \n",
      "__________________________________________________________________________________________________\n",
      "dense_32 (Dense)                (None, 2)            66          dense_31[0][0]                   \n",
      "==================================================================================================\n",
      "Total params: 21,122\n",
      "Trainable params: 21,122\n",
      "Non-trainable params: 0\n",
      "__________________________________________________________________________________________________\n"
     ]
    }
   ],
   "source": [
    "def build_model(input_shape):\n",
    "    # build model\n",
    "    model = tf.keras.Sequential()\n",
    "    model.add(layers.Conv1D(16, 7, activation='relu',\n",
    "                            input_shape=input_shape))\n",
    "    model.add(layers.Conv1D(32, 7, activation='relu', strides=2))\n",
    "    model.add(layers.Conv1D(32, 7, activation='relu', strides=2))\n",
    "    model.add(layers.Conv1D(32, 7, activation='relu'))\n",
    "#     model.add(layers.MaxPooling1D(2))\n",
    "    model.add(layers.Flatten())\n",
    "    model.add(layers.Dense(2))\n",
    "\n",
    "    model.compile(optimizer='Adam',loss='mae')\n",
    "    model.summary()\n",
    "\n",
    "    return model\n",
    "\n",
    "\n",
    "def build_model_icp(input_shape):\n",
    "    # build model, not inception\n",
    "    conv1 = layers.Conv1D(32, 7, activation='relu', strides=2)\n",
    "    conv2 = layers.Conv1D(32, 7, activation='relu', strides=2)\n",
    "    conv3 = layers.Conv1D(32, 7, activation='relu')\n",
    "    \n",
    "    input_tensor = Input(shape=input_shape)\n",
    "    start_index = [0, 32, 64, 96, 128, 160, 192]\n",
    "    slice_tensors = []\n",
    "    for idx in start_index:\n",
    "        slice_x = layers.Lambda(lambda x: x[:, idx:idx+64, :])(input_tensor)\n",
    "        slice_x = conv1(slice_x)\n",
    "        slice_x = conv2(slice_x)\n",
    "        slice_x = conv3(slice_x)\n",
    "        slice_tensors.append(slice_x)\n",
    "    y = layers.Average()(slice_tensors)\n",
    "        \n",
    "#     x1 = layers.Lambda(lambda x: x[:, :64, :])(input_tensor)\n",
    "#     x1 = conv1(x1)\n",
    "#     x1 = conv2(x1)\n",
    "#     x1 = conv3(x1)\n",
    "\n",
    "#     x15 = layers.Lambda(lambda x: x[:, 32:96, :])(input_tensor)\n",
    "#     x15 = conv1(x15)\n",
    "#     x15 = conv2(x15)\n",
    "#     x15 = conv3(x15)\n",
    "    \n",
    "#     x2 = layers.Lambda(lambda x: x[:, 64:128, :])(input_tensor)\n",
    "#     x2 = conv1(x2)\n",
    "#     x2 = conv2(x2)\n",
    "#     x2 = conv3(x2)\n",
    "    \n",
    "#     x25 = layers.Lambda(lambda x: x[:, 96:160, :])(input_tensor)\n",
    "#     x25 = conv1(x25)\n",
    "#     x25 = conv2(x25)\n",
    "#     x25 = conv3(x25)\n",
    "\n",
    "#     x3 = layers.Lambda(lambda x: x[:, 128:192, :])(input_tensor)\n",
    "#     x3 = conv1(x3)\n",
    "#     x3 = conv2(x3)\n",
    "#     x3 = conv3(x3)\n",
    "    \n",
    "#     x35 = layers.Lambda(lambda x: x[:, 160:224, :])(input_tensor)\n",
    "#     x35 = conv1(x35)\n",
    "#     x35 = conv2(x35)\n",
    "#     x35 = conv3(x35)\n",
    "    \n",
    "#     x4 = layers.Lambda(lambda x: x[:, 192:, :])(input_tensor)\n",
    "#     x4 = conv1(x4)\n",
    "#     x4 = conv2(x4)\n",
    "#     x4 = conv3(x4)\n",
    "#     y = layers.Average()([x1, x15, x2, x25, x3, x35, x4])\n",
    "\n",
    "    y = layers.Flatten()(y)\n",
    "    y = layers.Dense(32, activation='relu')(y)\n",
    "    output_tensor = layers.Dense(2)(y)\n",
    "\n",
    "    model = tf.keras.Model(input_tensor, output_tensor)\n",
    "    model.compile(optimizer='Adam',loss='mae')\n",
    "    model.summary()\n",
    "\n",
    "    return model\n",
    "\n",
    "\n",
    "model = build_model_icp((symb*sps, 2))"
   ]
  },
  {
   "cell_type": "code",
   "execution_count": 80,
   "metadata": {},
   "outputs": [
    {
     "data": {
      "text/plain": [
       "(10, 2)"
      ]
     },
     "execution_count": 80,
     "metadata": {},
     "output_type": "execute_result"
    }
   ],
   "source": [
    "# sanity check\n",
    "x_test = np.random.rand(10, 256, 2)\n",
    "model.predict(x_test).shape"
   ]
  },
  {
   "cell_type": "code",
   "execution_count": 96,
   "metadata": {},
   "outputs": [
    {
     "name": "stdout",
     "output_type": "stream",
     "text": [
      "Epoch 1/40\n",
      "200/200 [==============================] - 6s 30ms/step - loss: 0.1345\n",
      "Epoch 2/40\n",
      "200/200 [==============================] - 4s 21ms/step - loss: 0.0868\n",
      "Epoch 3/40\n",
      "200/200 [==============================] - 4s 21ms/step - loss: 0.0809\n",
      "Epoch 4/40\n",
      "200/200 [==============================] - 4s 21ms/step - loss: 0.0786\n",
      "Epoch 5/40\n",
      "200/200 [==============================] - 4s 21ms/step - loss: 0.0750\n",
      "Epoch 6/40\n",
      "200/200 [==============================] - 4s 22ms/step - loss: 0.0684\n",
      "Epoch 7/40\n",
      "200/200 [==============================] - 4s 21ms/step - loss: 0.0632\n",
      "Epoch 8/40\n",
      "200/200 [==============================] - 4s 21ms/step - loss: 0.0577\n",
      "Epoch 9/40\n",
      "200/200 [==============================] - 4s 21ms/step - loss: 0.0502\n",
      "Epoch 10/40\n",
      "200/200 [==============================] - 4s 22ms/step - loss: 0.0466\n",
      "Epoch 11/40\n",
      "200/200 [==============================] - 4s 21ms/step - loss: 0.0460\n",
      "Epoch 12/40\n",
      "200/200 [==============================] - 4s 21ms/step - loss: 0.0436\n",
      "Epoch 13/40\n",
      "200/200 [==============================] - 4s 21ms/step - loss: 0.0401\n",
      "Epoch 14/40\n",
      "200/200 [==============================] - 4s 19ms/step - loss: 0.0406\n",
      "Epoch 15/40\n",
      "200/200 [==============================] - 4s 20ms/step - loss: 0.0400\n",
      "Epoch 16/40\n",
      "200/200 [==============================] - 4s 20ms/step - loss: 0.0397\n",
      "Epoch 17/40\n",
      "200/200 [==============================] - 4s 20ms/step - loss: 0.0365\n",
      "Epoch 18/40\n",
      "200/200 [==============================] - 4s 20ms/step - loss: 0.0359\n",
      "Epoch 19/40\n",
      "200/200 [==============================] - 4s 20ms/step - loss: 0.0355\n",
      "Epoch 20/40\n",
      "200/200 [==============================] - 4s 20ms/step - loss: 0.0349\n",
      "Epoch 21/40\n",
      "200/200 [==============================] - 4s 20ms/step - loss: 0.0340\n",
      "Epoch 22/40\n",
      "200/200 [==============================] - 4s 20ms/step - loss: 0.0325\n",
      "Epoch 23/40\n",
      "200/200 [==============================] - 4s 20ms/step - loss: 0.0313\n",
      "Epoch 24/40\n",
      "200/200 [==============================] - 4s 20ms/step - loss: 0.0311\n",
      "Epoch 25/40\n",
      "200/200 [==============================] - 4s 20ms/step - loss: 0.0293\n",
      "Epoch 26/40\n",
      "200/200 [==============================] - 4s 21ms/step - loss: 0.0304\n",
      "Epoch 27/40\n",
      "200/200 [==============================] - 4s 20ms/step - loss: 0.0285\n",
      "Epoch 28/40\n",
      "200/200 [==============================] - 4s 20ms/step - loss: 0.0287\n",
      "Epoch 29/40\n",
      "200/200 [==============================] - 4s 20ms/step - loss: 0.0293\n",
      "Epoch 30/40\n",
      "200/200 [==============================] - 4s 20ms/step - loss: 0.0274\n",
      "Epoch 31/40\n",
      "200/200 [==============================] - 4s 20ms/step - loss: 0.0294\n",
      "Epoch 32/40\n",
      "200/200 [==============================] - 4s 20ms/step - loss: 0.0265\n",
      "Epoch 33/40\n",
      "200/200 [==============================] - 4s 20ms/step - loss: 0.0262\n",
      "Epoch 34/40\n",
      "200/200 [==============================] - 4s 20ms/step - loss: 0.0266\n",
      "Epoch 35/40\n",
      "200/200 [==============================] - 4s 20ms/step - loss: 0.0279\n",
      "Epoch 36/40\n",
      "200/200 [==============================] - 4s 20ms/step - loss: 0.0258\n",
      "Epoch 37/40\n",
      "200/200 [==============================] - 4s 21ms/step - loss: 0.0256\n",
      "Epoch 38/40\n",
      "200/200 [==============================] - 4s 21ms/step - loss: 0.0270\n",
      "Epoch 39/40\n",
      "200/200 [==============================] - 4s 21ms/step - loss: 0.0279\n",
      "Epoch 40/40\n",
      "200/200 [==============================] - 4s 21ms/step - loss: 0.0250\n"
     ]
    }
   ],
   "source": [
    "history = model.fit_generator(\n",
    "    gen,\n",
    "    steps_per_epoch=200,\n",
    "    epochs=40\n",
    "    )\n",
    "model.save('mibt_est.h5')"
   ]
  },
  {
   "cell_type": "code",
   "execution_count": 97,
   "metadata": {},
   "outputs": [
    {
     "data": {
      "image/png": "[encoded data removed]",
      "text/plain": [
       "<Figure size 432x288 with 1 Axes>"
      ]
     },
     "metadata": {
      "needs_background": "light"
     },
     "output_type": "display_data"
    }
   ],
   "source": [
    "loss = history.history['loss']\n",
    "epochs = range(1, len(loss) + 1)\n",
    "plt.plot(epochs, loss, label='Training loss')\n",
    "plt.legend()\n",
    "plt.show()"
   ]
  },
  {
   "cell_type": "code",
   "execution_count": 98,
   "metadata": {},
   "outputs": [
    {
     "name": "stdout",
     "output_type": "stream",
     "text": [
      "[[0.5261794  0.84673893]] [[0.53614587 0.8368762 ]]\n"
     ]
    }
   ],
   "source": [
    "batch = 1\n",
    "symb, sps = 64, 4\n",
    "x_test, target = sig_batch_gen(batch, symb, sps)\n",
    "print(model.predict(x_test), target)\n"
   ]
  },
  {
   "cell_type": "code",
   "execution_count": null,
   "metadata": {},
   "outputs": [],
   "source": []
  },
  {
   "cell_type": "code",
   "execution_count": null,
   "metadata": {},
   "outputs": [],
   "source": []
  }
 ],
 "metadata": {
  "kernelspec": {
   "display_name": "Python 3",
   "language": "python",
   "name": "python3"
  },
  "language_info": {
   "codemirror_mode": {
    "name": "ipython",
    "version": 3
   },
   "file_extension": ".py",
   "mimetype": "text/x-python",
   "name": "python",
   "nbconvert_exporter": "python",
   "pygments_lexer": "ipython3",
   "version": "3.6.8"
  }
 },
 "nbformat": 4,
 "nbformat_minor": 2
}
