{
 "cells": [
  {
   "cell_type": "code",
   "execution_count": 1,
   "metadata": {},
   "outputs": [
    {
     "name": "stdout",
     "output_type": "stream",
     "text": [
      "1.10.0\n",
      "2.1.6-tf\n"
     ]
    }
   ],
   "source": [
    "import numpy as np\n",
    "import matplotlib.pyplot as plt\n",
    "from lib import sig_gen\n",
    "import tensorflow as tf\n",
    "from tensorflow.keras import layers\n",
    "\n",
    "print(tf.VERSION)\n",
    "print(tf.keras.__version__)"
   ]
  },
  {
   "cell_type": "code",
   "execution_count": 32,
   "metadata": {},
   "outputs": [
    {
     "data": {
      "text/plain": [
       "(1024, 2)"
      ]
     },
     "execution_count": 32,
     "metadata": {},
     "output_type": "execute_result"
    }
   ],
   "source": [
    "def sig_batch_gen(batch, symb, sps):\n",
    "    \"\"\"\n",
    "    generate a signal batch\n",
    "    no distortion yet\n",
    "    \"\"\"\n",
    "    mibt = np.random.random((batch, 2))+0.3\n",
    "    sig = np.empty((batch, symb*sps, 2))\n",
    "    for idx in range(batch):\n",
    "        msg = np.random.randint(0, 2, symb)\n",
    "        sig_cpx = sig_gen.gfsk_mod(msg, sps, mibt[idx, 0], mibt[idx, 1])\n",
    "        sig[idx, :, 0] = sig_cpx.real\n",
    "        sig[idx, :, 1] = sig_cpx.imag\n",
    "    return sig, mibt\n",
    "\n",
    "# sig, mibt = sig_batch_gen(batch, symb, sps)\n",
    "# print(sig.shape, mibt.shape)\n",
    "def train_generator():\n",
    "    batch = 1024\n",
    "    symb, sps = 64, 4\n",
    "    while True:\n",
    "        yield sig_batch_gen(batch, symb, sps)\n",
    "        \n",
    "# for item in train_generator():\n",
    "#     print(item)\n",
    "#     if item > 4:\n",
    "#     break\n",
    "gen = train_generator()\n",
    "next(gen)[1].shape"
   ]
  },
  {
   "cell_type": "code",
   "execution_count": 22,
   "metadata": {},
   "outputs": [
    {
     "data": {
      "text/plain": [
       "0.4775702545731691"
      ]
     },
     "execution_count": 22,
     "metadata": {},
     "output_type": "execute_result"
    }
   ],
   "source": [
    "mibt[idx, 1]"
   ]
  },
  {
   "cell_type": "code",
   "execution_count": 13,
   "metadata": {},
   "outputs": [
    {
     "name": "stdout",
     "output_type": "stream",
     "text": [
      "_________________________________________________________________\n",
      "Layer (type)                 Output Shape              Param #   \n",
      "=================================================================\n",
      "conv1d_15 (Conv1D)           (None, 248, 32)           608       \n",
      "_________________________________________________________________\n",
      "max_pooling1d_2 (MaxPooling1 (None, 124, 32)           0         \n",
      "_________________________________________________________________\n",
      "conv1d_16 (Conv1D)           (None, 118, 16)           3600      \n",
      "_________________________________________________________________\n",
      "max_pooling1d_3 (MaxPooling1 (None, 59, 16)            0         \n",
      "_________________________________________________________________\n",
      "conv1d_17 (Conv1D)           (None, 57, 8)             392       \n",
      "_________________________________________________________________\n",
      "flatten_4 (Flatten)          (None, 456)               0         \n",
      "_________________________________________________________________\n",
      "dense_7 (Dense)              (None, 2)                 914       \n",
      "=================================================================\n",
      "Total params: 5,514\n",
      "Trainable params: 5,514\n",
      "Non-trainable params: 0\n",
      "_________________________________________________________________\n"
     ]
    }
   ],
   "source": [
    "def build_model(input_shape):\n",
    "    # build model\n",
    "    model = tf.keras.Sequential()\n",
    "    model.add(layers.Conv1D(32, 9, activation='relu',\n",
    "                                     input_shape=input_shape))\n",
    "    model.add(layers.MaxPooling1D(2))\n",
    "    model.add(layers.Conv1D(16, 7, activation='relu'))\n",
    "    model.add(layers.MaxPooling1D(2))\n",
    "    model.add(layers.Conv1D(8, 3, activation='relu'))\n",
    "    model.add(layers.Flatten())\n",
    "\n",
    "    model.add(layers.Dense(2))\n",
    "\n",
    "    \n",
    "    loss_function = tf.keras.losses.mean_squared_error\n",
    "    metrics = ['mae', 'acc']\n",
    "\n",
    "    model.compile(optimizer=tf.train.AdamOptimizer(0.001),\n",
    "                  loss=loss_function,\n",
    "                  metrics=metrics)\n",
    "    model.summary()\n",
    "\n",
    "    return model\n",
    "\n",
    "model = build_model((256, 2))"
   ]
  },
  {
   "cell_type": "code",
   "execution_count": 16,
   "metadata": {},
   "outputs": [
    {
     "data": {
      "text/plain": [
       "(5, 2)"
      ]
     },
     "execution_count": 16,
     "metadata": {},
     "output_type": "execute_result"
    }
   ],
   "source": [
    "# sanity check\n",
    "x_test = np.random.rand(5, 256, 2)\n",
    "model.predict(x_test).shape"
   ]
  },
  {
   "cell_type": "code",
   "execution_count": 33,
   "metadata": {},
   "outputs": [
    {
     "name": "stdout",
     "output_type": "stream",
     "text": [
      "Epoch 1/10\n",
      "100/100 [==============================] - 30s 299ms/step - loss: 0.1015 - mean_absolute_error: 0.2244 - acc: 0.6386\n",
      "Epoch 2/10\n",
      "100/100 [==============================] - 29s 291ms/step - loss: 0.0436 - mean_absolute_error: 0.1440 - acc: 0.7508\n",
      "Epoch 3/10\n",
      "100/100 [==============================] - 29s 291ms/step - loss: 0.0423 - mean_absolute_error: 0.1382 - acc: 0.7530\n",
      "Epoch 4/10\n",
      "100/100 [==============================] - 29s 291ms/step - loss: 0.0416 - mean_absolute_error: 0.1359 - acc: 0.7556\n",
      "Epoch 5/10\n",
      "100/100 [==============================] - 29s 291ms/step - loss: 0.0399 - mean_absolute_error: 0.1319 - acc: 0.7605\n",
      "Epoch 6/10\n",
      "100/100 [==============================] - 29s 291ms/step - loss: 0.0350 - mean_absolute_error: 0.1216 - acc: 0.7858\n",
      "Epoch 7/10\n",
      "100/100 [==============================] - 29s 293ms/step - loss: 0.0262 - mean_absolute_error: 0.1013 - acc: 0.8337\n",
      "Epoch 8/10\n",
      "100/100 [==============================] - 30s 301ms/step - loss: 0.0191 - mean_absolute_error: 0.0837 - acc: 0.8749\n",
      "Epoch 9/10\n",
      "100/100 [==============================] - 30s 298ms/step - loss: 0.0171 - mean_absolute_error: 0.0786 - acc: 0.8821\n",
      "Epoch 10/10\n",
      "100/100 [==============================] - 29s 292ms/step - loss: 0.0173 - mean_absolute_error: 0.0787 - acc: 0.8807\n"
     ]
    }
   ],
   "source": [
    "history = model.fit_generator(\n",
    "    gen,\n",
    "    steps_per_epoch=100,\n",
    "    epochs=10\n",
    "    )"
   ]
  }
 ],
 "metadata": {
  "kernelspec": {
   "display_name": "Python 3",
   "language": "python",
   "name": "python3"
  },
  "language_info": {
   "codemirror_mode": {
    "name": "ipython",
    "version": 3
   },
   "file_extension": ".py",
   "mimetype": "text/x-python",
   "name": "python",
   "nbconvert_exporter": "python",
   "pygments_lexer": "ipython3",
   "version": "3.6.8"
  }
 },
 "nbformat": 4,
 "nbformat_minor": 2
}
