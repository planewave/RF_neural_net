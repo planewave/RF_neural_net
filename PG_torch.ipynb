{
 "cells": [
  {
   "cell_type": "code",
   "execution_count": 1,
   "metadata": {},
   "outputs": [
    {
     "data": {
      "text/plain": [
       "'1.0.1.post2'"
      ]
     },
     "execution_count": 1,
     "metadata": {},
     "output_type": "execute_result"
    }
   ],
   "source": [
    "import numpy as np\n",
    "import matplotlib.pyplot as plt\n",
    "from lib import sig_gen\n",
    "import torch\n",
    "import torch.nn as nn\n",
    "from lib import sig_gen\n",
    "# import torch.optim\n",
    "torch.__version__"
   ]
  },
  {
   "cell_type": "code",
   "execution_count": 16,
   "metadata": {},
   "outputs": [
    {
     "data": {
      "text/plain": [
       "'9.0.176'"
      ]
     },
     "execution_count": 16,
     "metadata": {},
     "output_type": "execute_result"
    }
   ],
   "source": [
    "device = torch.device(\"cuda\" if torch.cuda.is_available() else \"cpu\")\n",
    "torch.version.cuda \n",
    "# torch.backends.cudnn.version()  # Corresponding cuDNN version"
   ]
  },
  {
   "cell_type": "code",
   "execution_count": 13,
   "metadata": {},
   "outputs": [
    {
     "data": {
      "text/plain": [
       "(256,)"
      ]
     },
     "execution_count": 13,
     "metadata": {},
     "output_type": "execute_result"
    }
   ],
   "source": [
    "symb, sps = 64, 4\n",
    "mi, bt = 0.5, 0.3\n",
    "msg = np.random.randint(0, 2, symb)\n",
    "sig = sig_gen.gfsk_mod(msg, sps, bt, mi)\n",
    "\n",
    "sig.shape"
   ]
  },
  {
   "cell_type": "code",
   "execution_count": 2,
   "metadata": {},
   "outputs": [
    {
     "ename": "NameError",
     "evalue": "name 'sig' is not defined",
     "output_type": "error",
     "traceback": [
      "\u001b[0;31m---------------------------------------------------------------------------\u001b[0m",
      "\u001b[0;31mNameError\u001b[0m                                 Traceback (most recent call last)",
      "\u001b[0;32m<ipython-input-2-78fdf878c226>\u001b[0m in \u001b[0;36m<module>\u001b[0;34m()\u001b[0m\n\u001b[0;32m----> 1\u001b[0;31m \u001b[0msig2\u001b[0m \u001b[0;34m=\u001b[0m \u001b[0mnp\u001b[0m\u001b[0;34m.\u001b[0m\u001b[0mvstack\u001b[0m\u001b[0;34m(\u001b[0m\u001b[0;34m(\u001b[0m\u001b[0msig\u001b[0m\u001b[0;34m,\u001b[0m \u001b[0msig\u001b[0m\u001b[0;34m,\u001b[0m \u001b[0msig\u001b[0m\u001b[0;34m)\u001b[0m\u001b[0;34m)\u001b[0m\u001b[0;34m\u001b[0m\u001b[0;34m\u001b[0m\u001b[0m\n\u001b[0m\u001b[1;32m      2\u001b[0m \u001b[0msig2\u001b[0m \u001b[0;34m=\u001b[0m \u001b[0mnp\u001b[0m\u001b[0;34m.\u001b[0m\u001b[0mexpand_dims\u001b[0m\u001b[0;34m(\u001b[0m\u001b[0msig2\u001b[0m\u001b[0;34m,\u001b[0m \u001b[0;36m1\u001b[0m\u001b[0;34m)\u001b[0m\u001b[0;34m[\u001b[0m\u001b[0;34m:\u001b[0m\u001b[0;34m,\u001b[0m \u001b[0;34m:\u001b[0m\u001b[0;34m,\u001b[0m \u001b[0;36m0\u001b[0m\u001b[0;34m:\u001b[0m\u001b[0;34m-\u001b[0m\u001b[0;36m1\u001b[0m\u001b[0;34m:\u001b[0m \u001b[0;36m4\u001b[0m\u001b[0;34m]\u001b[0m\u001b[0;34m\u001b[0m\u001b[0;34m\u001b[0m\u001b[0m\n",
      "\u001b[0;31mNameError\u001b[0m: name 'sig' is not defined"
     ]
    }
   ],
   "source": [
    "sig2 = np.vstack((sig, sig, sig))\n",
    "sig2 = np.expand_dims(sig2, 1)[:, :, 0:-1: 4]"
   ]
  },
  {
   "cell_type": "code",
   "execution_count": null,
   "metadata": {},
   "outputs": [],
   "source": [
    "class CVcnn(torch.nn.Module):\n",
    "    def __init__(self):\n",
    "        super(CVcnn, self).__init__()\n",
    "        \n",
    "        self.conv1_r = nn.Conv1d(1, 8, 5)\n",
    "        self.conv1_i = nn.Conv1d(1, 8, 5)\n",
    "        \n",
    "        self.conv2_r = nn.Conv1d(8, 8, 5)\n",
    "        self.conv2_i = nn.Conv1d(8, 8, 5)\n",
    "        \n",
    "    def forward(self, x_r, x_i):\n",
    "        (y_r, y_i) = (self.conv1_r(x_r) - self.conv1_i(x_i),\n",
    "                      self.conv1_r(x_i) + self.conv1_i(x_r))\n",
    "        \n",
    "        (y_r, y_i) = (self.conv2_r(y_r) - self.conv2_i(y_i),\n",
    "                      self.conv2_r(y_i) + self.conv2_i(y_r))\n",
    "        \n",
    "        return y_r, y_i\n",
    "    \n",
    "    \n",
    "net = CVcnn()\n",
    "print('Number of parameters: {}'.format(sum(p.numel() for p in net.parameters())))\n",
    "\n",
    "x_r = torch.from_numpy(sig2.real).float()\n",
    "x_i = torch.from_numpy(sig2.imag).float()\n",
    "y_r, y_i = net(x_r, x_i)\n",
    "\n",
    "print(x_r.shape, y_r.shape)"
   ]
  },
  {
   "cell_type": "code",
   "execution_count": null,
   "metadata": {},
   "outputs": [],
   "source": [
    "class RVcnn(torch.nn.Module):\n",
    "    def __init__(self):\n",
    "        super(RVcnn, self).__init__()\n",
    "        \n",
    "        self.conv1 = nn.Conv1d(2, 8, 5)\n",
    "        self.conv2 = nn.Conv1d(8, 8, 5)\n",
    "#         self.conv1_i = nn.Conv1d(1, 2, 5) \n",
    "    def forward(self, x):\n",
    "        y = self.conv1(x)\n",
    "        y = self.conv2(y)\n",
    "#         y_r = self.conv1_r(x_r) - self.conv1_i(x_i)\n",
    "#         y_i = self.conv1_r(x_i) + self.conv1_i(x_r)\n",
    "        return y\n",
    "\n",
    "net = RVcnn()\n",
    "print('Number of parameters: {}'.format(sum(p.numel() for p in net.parameters())))\n",
    "\n",
    "x_r = torch.from_numpy(sig2.real).float()\n",
    "x_i = torch.from_numpy(sig2.imag).float()\n",
    "x = torch.cat((x_r, x_i), 1)\n",
    "y= net(x)\n",
    "\n",
    "print(x.shape, y.shape)"
   ]
  }
 ],
 "metadata": {
  "kernelspec": {
   "display_name": "Python 3",
   "language": "python",
   "name": "python3"
  },
  "language_info": {
   "codemirror_mode": {
    "name": "ipython",
    "version": 3
   },
   "file_extension": ".py",
   "mimetype": "text/x-python",
   "name": "python",
   "nbconvert_exporter": "python",
   "pygments_lexer": "ipython3",
   "version": "3.6.8"
  }
 },
 "nbformat": 4,
 "nbformat_minor": 2
}
